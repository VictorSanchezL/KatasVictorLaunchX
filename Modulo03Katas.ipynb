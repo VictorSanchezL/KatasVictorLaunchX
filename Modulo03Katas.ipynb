{
 "cells": [
  {
   "cell_type": "markdown",
   "metadata": {},
   "source": [
    "# Katas Módulo 3"
   ]
  },
  {
   "cell_type": "markdown",
   "metadata": {},
   "source": [
    "### Ejercicio - Escribir declaraciones if, else, y elif"
   ]
  },
  {
   "cell_type": "markdown",
   "metadata": {},
   "source": [
    "### Problema 1"
   ]
  },
  {
   "cell_type": "code",
   "execution_count": 4,
   "metadata": {},
   "outputs": [
    {
     "name": "stdout",
     "output_type": "stream",
     "text": [
      "Advertencia un asteroide viene hacia la tierra a una velocidad de 49 km/hr\n"
     ]
    }
   ],
   "source": [
    "spdAst= 49\n",
    "\n",
    "if spdAst > 25 : print(\"Advertencia un asteroide viene hacia la tierra a una velocidad de \" + str(spdAst) + \" km/hr\")\n",
    "else: print(\"No hay ningún asteroide que represente riesgo para la tierra\")"
   ]
  },
  {
   "cell_type": "markdown",
   "metadata": {},
   "source": [
    "### Problema 2"
   ]
  },
  {
   "cell_type": "code",
   "execution_count": 8,
   "metadata": {},
   "outputs": [
    {
     "name": "stdout",
     "output_type": "stream",
     "text": [
      "No hay ningún objeto nuevo en el cielo\n"
     ]
    }
   ],
   "source": [
    "Ast= 19\n",
    "\n",
    "if Ast >= 20 : \n",
    "    print(\"Un asteroide en el cielo se puede apreciar ahora mismo\")\n",
    "else: print(\"No hay ningún objeto nuevo en el cielo\")\n",
    "\n"
   ]
  },
  {
   "cell_type": "markdown",
   "metadata": {},
   "source": [
    "### Ejercicio: Uso de operadores and y or"
   ]
  },
  {
   "cell_type": "code",
   "execution_count": 9,
   "metadata": {},
   "outputs": [
    {
     "name": "stdout",
     "output_type": "stream",
     "text": [
      "Un asteroide en el cielo se puede apreciar ahora mismo\n"
     ]
    }
   ],
   "source": [
    "Velocidad = 25\n",
    "tamaño = 40\n",
    "\n",
    "if Velocidad > 25 and tamaño > 25:\n",
    "    print(\"Cuidado un asteroide muy peligroso se acerca a la tierra\")\n",
    "elif Velocidad >= 20:\n",
    "    print(\"Un asteroide en el cielo se puede apreciar ahora mismo\")\n",
    "elif tamaño < 25:\n",
    "    print(\"No hay ningún riesgo actualmente\")\n",
    "else:\n",
    "    print(\"No hay ningún riesgo actualmente\")"
   ]
  }
 ],
 "metadata": {
  "interpreter": {
   "hash": "925c48d60a8d331eaf99cb1ad3f064d5c33b8fc3e2bd62a62c14f313ba1cda00"
  },
  "kernelspec": {
   "display_name": "Python 3.10.2 64-bit (windows store)",
   "language": "python",
   "name": "python3"
  },
  "language_info": {
   "codemirror_mode": {
    "name": "ipython",
    "version": 3
   },
   "file_extension": ".py",
   "mimetype": "text/x-python",
   "name": "python",
   "nbconvert_exporter": "python",
   "pygments_lexer": "ipython3",
   "version": "3.10.2"
  },
  "orig_nbformat": 4
 },
 "nbformat": 4,
 "nbformat_minor": 2
}
